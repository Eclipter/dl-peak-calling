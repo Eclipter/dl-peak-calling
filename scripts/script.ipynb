{
 "cells": [
  {
   "cell_type": "markdown",
   "id": "33f77cb0-4f3a-452a-a406-09d24873c460",
   "metadata": {
    "tags": []
   },
   "source": [
    "# Peak calling DL model"
   ]
  },
  {
   "cell_type": "markdown",
   "id": "1bbd665e-e7a2-4f04-9223-0ad58ffd44e4",
   "metadata": {
    "jp-MarkdownHeadingCollapsed": true,
    "tags": []
   },
   "source": [
    "## Setup"
   ]
  },
  {
   "cell_type": "markdown",
   "id": "7a91433f-7e82-443f-97a0-63a645c06fef",
   "metadata": {
    "jp-MarkdownHeadingCollapsed": true,
    "tags": []
   },
   "source": [
    "### Create an environment"
   ]
  },
  {
   "cell_type": "markdown",
   "id": "c18a4c3d-b7f4-440f-a4a0-060ab94db149",
   "metadata": {
    "jp-MarkdownHeadingCollapsed": true,
    "tags": []
   },
   "source": [
    "#### Paste this in your terminal while in the project directory and select the 'DL_peak_calling' kernel"
   ]
  },
  {
   "cell_type": "markdown",
   "id": "e46aa0d2-2faa-4eb1-9195-0474c055e952",
   "metadata": {
    "jp-MarkdownHeadingCollapsed": true,
    "tags": []
   },
   "source": [
    "```\n",
    "conda create -n DL_peak_calling -c conda-forge mamba python=3.9 -y && \\\n",
    "conda activate DL_peak_calling && \\\n",
    "mamba env update --file environment.yml\n",
    "```"
   ]
  },
  {
   "cell_type": "markdown",
   "id": "4a4bef05-6506-456c-b242-284b0e7628ac",
   "metadata": {
    "tags": []
   },
   "source": [
    "### Import and configure libraries"
   ]
  },
  {
   "cell_type": "code",
   "execution_count": 239,
   "id": "a3febd49-3e0f-4c74-b23e-21f838f2726b",
   "metadata": {
    "tags": []
   },
   "outputs": [],
   "source": [
    "import os\n",
    "import pickle\n",
    "from time import gmtime, strftime\n",
    "from collections import Counter\n",
    "from multiprocessing import Pool, cpu_count\n",
    "\n",
    "import numpy as np\n",
    "import pandas as pd\n",
    "import torch.multiprocessing as mp\n",
    "from Bio import SeqIO\n",
    "\n",
    "import matplotlib.pyplot as plt\n",
    "# Uncomment to use dark plots\n",
    "# plt.style.use('dark_background')\n",
    "import seaborn as sns\n",
    "\n",
    "from tqdm.notebook import tqdm"
   ]
  },
  {
   "cell_type": "markdown",
   "id": "3bf5c86b-5a21-48e0-a21b-aeee7a0f5527",
   "metadata": {
    "jp-MarkdownHeadingCollapsed": true,
    "tags": []
   },
   "source": [
    "### Set a number of workers"
   ]
  },
  {
   "cell_type": "code",
   "execution_count": 2,
   "id": "81ac3de6-f291-4f7e-ae82-55e619d3cf33",
   "metadata": {
    "tags": []
   },
   "outputs": [
    {
     "data": {
      "text/plain": [
       "96"
      ]
     },
     "execution_count": 2,
     "metadata": {},
     "output_type": "execute_result"
    }
   ],
   "source": [
    "# Specify instead of 'None' if necessary\n",
    "num_workers = None\n",
    "\n",
    "if not num_workers:\n",
    "    num_workers = cpu_count()\n",
    "\n",
    "num_workers"
   ]
  },
  {
   "cell_type": "markdown",
   "id": "6a0431f4-a2f9-49fa-b2bf-4aaecc6fa39e",
   "metadata": {
    "jp-MarkdownHeadingCollapsed": true,
    "tags": []
   },
   "source": [
    "## Retrieve the data"
   ]
  },
  {
   "cell_type": "markdown",
   "id": "9f6e75dd-db27-4784-8a8b-708403513e24",
   "metadata": {
    "jp-MarkdownHeadingCollapsed": true,
    "tags": []
   },
   "source": [
    "#### Retrieve dyad positions"
   ]
  },
  {
   "cell_type": "code",
   "execution_count": 29,
   "id": "20c590bb-8b91-4228-9380-915ada4c99a3",
   "metadata": {
    "tags": []
   },
   "outputs": [
    {
     "name": "stdout",
     "output_type": "stream",
     "text": [
      "2024-07-30 21:08:45 URL:https://ftp.ncbi.nlm.nih.gov/geo/samples/GSM2561nnn/GSM2561057/suppl/GSM2561057%5FDyads%5FH3%5FCC%5Frep%5F1%2Ebw [10064746/10064746] -> \"../dataset_1/dyads.bw\" [1]\n",
      "2024-07-30 21:08:48 URL:https://ftp.ncbi.nlm.nih.gov/geo/samples/GSM2561nnn/GSM2561058/suppl/GSM2561058%5FDyads%5FH3%5FCC%5Frep%5F2%2Ebw [8556133/8556133] -> \"../dataset_2/dyads.bw\" [1]\n",
      "2024-07-30 21:08:51 URL:https://ftp.ncbi.nlm.nih.gov/geo/samples/GSM2561nnn/GSM2561059/suppl/GSM2561059%5FDyads%5FH3%5FCC%5Frep%5F3%2Ebw [7220516/7220516] -> \"../dataset_3/dyads.bw\" [1]\n"
     ]
    }
   ],
   "source": [
    "%%bash\n",
    "\n",
    "\n",
    "for i in 1 2 3\n",
    "do\n",
    "    mkdir ../dataset_${i} -p\n",
    "\n",
    "    wget \\\n",
    "        https://ftp.ncbi.nlm.nih.gov/geo/samples/GSM2561nnn/GSM256105$((i+6))/suppl/GSM256105$((i+6))%5FDyads%5FH3%5FCC%5Frep%5F${i}%2Ebw \\\n",
    "        -O ../dataset_${i}/dyads.bw \\\n",
    "        --no-verbose \\\n",
    "        2>&1\n",
    "done"
   ]
  },
  {
   "cell_type": "markdown",
   "id": "36bcd72e-e6f9-44f3-9a6d-c99c59f2a8f9",
   "metadata": {
    "jp-MarkdownHeadingCollapsed": true,
    "tags": []
   },
   "source": [
    "#### Retrieve the [S. cerevisiae (sacCer3) reference genome](https://www.ncbi.nlm.nih.gov/datasets/genome/GCF_000146045.2/)"
   ]
  },
  {
   "cell_type": "code",
   "execution_count": 30,
   "id": "a6147158-cf37-471a-98b5-68d9e801efed",
   "metadata": {
    "tags": []
   },
   "outputs": [
    {
     "name": "stdout",
     "output_type": "stream",
     "text": [
      "2024-07-30 21:08:53 URL:https://ftp.ncbi.nlm.nih.gov/genomes/all/GCF/000/146/045/GCF_000146045.2_R64/GCF_000146045.2_R64_genomic.fna.gz [3843460/3843460] -> \"../reference_genome.fasta.gz\" [1]\n"
     ]
    }
   ],
   "source": [
    "%%bash\n",
    "\n",
    "\n",
    "wget \\\n",
    "    https://ftp.ncbi.nlm.nih.gov/genomes/all/GCF/000/146/045/GCF_000146045.2_R64/GCF_000146045.2_R64_genomic.fna.gz \\\n",
    "    -O ../reference_genome.fasta.gz \\\n",
    "    --no-verbose \\\n",
    "    2>&1\n",
    "\n",
    "gunzip \\\n",
    "    ../reference_genome.fasta.gz \\\n",
    "    --force"
   ]
  },
  {
   "cell_type": "markdown",
   "id": "e748c3bf-c32d-4f2f-a35e-aaf41a669784",
   "metadata": {
    "jp-MarkdownHeadingCollapsed": true,
    "tags": []
   },
   "source": [
    "#### Retrieve MNase-Exo-Seq sequence alignment map"
   ]
  },
  {
   "cell_type": "code",
   "execution_count": 35,
   "id": "d20732dc-98ab-4d06-bcff-7da03cbb7bb7",
   "metadata": {
    "tags": []
   },
   "outputs": [
    {
     "name": "stdout",
     "output_type": "stream",
     "text": [
      "Downloading...\n",
      "From (original): https://drive.google.com/uc?id=1WUPP3z_KrBmIrCyF-ogpQX8qNs5v3ez1\n",
      "From (redirected): https://drive.google.com/uc?id=1WUPP3z_KrBmIrCyF-ogpQX8qNs5v3ez1&confirm=t&uuid=907d8412-e3a5-4597-831e-351c6c21c29f\n",
      "To: /home/v_sidorov/DL_peak_calling/exoiii_dataset/exo.bam\n",
      "100%|██████████| 245M/245M [00:02<00:00, 87.4MB/s] \n"
     ]
    }
   ],
   "source": [
    "%%bash\n",
    "\n",
    "\n",
    "gdown \\\n",
    "    'https://drive.google.com/uc?id=1WUPP3z_KrBmIrCyF-ogpQX8qNs5v3ez1' \\\n",
    "    -O ../exoiii_dataset/exo.bam \\\n",
    "    2>&1\n",
    "\n",
    "samtools \\\n",
    "    view \\\n",
    "    ../exoiii_dataset/exo.bam > ../exoiii_dataset/exo.sam \\\n",
    "    2>&1"
   ]
  },
  {
   "cell_type": "markdown",
   "id": "0ab50c9f-b1b2-4f85-ba72-4d3e184f85b0",
   "metadata": {
    "jp-MarkdownHeadingCollapsed": true,
    "tags": []
   },
   "source": [
    "## Analyse the data"
   ]
  },
  {
   "cell_type": "markdown",
   "id": "f0564c9e-7750-4098-b7e7-ef24b5c1882a",
   "metadata": {
    "jp-MarkdownHeadingCollapsed": true,
    "tags": []
   },
   "source": [
    "### Load the data"
   ]
  },
  {
   "cell_type": "markdown",
   "id": "940d9583-ec46-4a5d-86b4-374b327691f9",
   "metadata": {
    "jp-MarkdownHeadingCollapsed": true,
    "tags": []
   },
   "source": [
    "#### Load the SAM file"
   ]
  },
  {
   "cell_type": "code",
   "execution_count": 36,
   "id": "78a9572c-fe88-492e-a000-518a27f4e0ee",
   "metadata": {
    "tags": []
   },
   "outputs": [
    {
     "data": {
      "text/html": [
       "<div>\n",
       "<style scoped>\n",
       "    .dataframe tbody tr th:only-of-type {\n",
       "        vertical-align: middle;\n",
       "    }\n",
       "\n",
       "    .dataframe tbody tr th {\n",
       "        vertical-align: top;\n",
       "    }\n",
       "\n",
       "    .dataframe thead th {\n",
       "        text-align: right;\n",
       "    }\n",
       "</style>\n",
       "<table border=\"1\" class=\"dataframe\">\n",
       "  <thead>\n",
       "    <tr style=\"text-align: right;\">\n",
       "      <th></th>\n",
       "      <th>tlen</th>\n",
       "    </tr>\n",
       "  </thead>\n",
       "  <tbody>\n",
       "    <tr>\n",
       "      <th>0</th>\n",
       "      <td>117</td>\n",
       "    </tr>\n",
       "    <tr>\n",
       "      <th>1</th>\n",
       "      <td>57</td>\n",
       "    </tr>\n",
       "    <tr>\n",
       "      <th>2</th>\n",
       "      <td>54</td>\n",
       "    </tr>\n",
       "    <tr>\n",
       "      <th>3</th>\n",
       "      <td>-54</td>\n",
       "    </tr>\n",
       "    <tr>\n",
       "      <th>4</th>\n",
       "      <td>-57</td>\n",
       "    </tr>\n",
       "    <tr>\n",
       "      <th>...</th>\n",
       "      <td>...</td>\n",
       "    </tr>\n",
       "    <tr>\n",
       "      <th>8920963</th>\n",
       "      <td>-143</td>\n",
       "    </tr>\n",
       "    <tr>\n",
       "      <th>8920964</th>\n",
       "      <td>-85</td>\n",
       "    </tr>\n",
       "    <tr>\n",
       "      <th>8920965</th>\n",
       "      <td>-141</td>\n",
       "    </tr>\n",
       "    <tr>\n",
       "      <th>8920966</th>\n",
       "      <td>-145</td>\n",
       "    </tr>\n",
       "    <tr>\n",
       "      <th>8920967</th>\n",
       "      <td>-149</td>\n",
       "    </tr>\n",
       "  </tbody>\n",
       "</table>\n",
       "<p>8920968 rows × 1 columns</p>\n",
       "</div>"
      ],
      "text/plain": [
       "         tlen\n",
       "0         117\n",
       "1          57\n",
       "2          54\n",
       "3         -54\n",
       "4         -57\n",
       "...       ...\n",
       "8920963  -143\n",
       "8920964   -85\n",
       "8920965  -141\n",
       "8920966  -145\n",
       "8920967  -149\n",
       "\n",
       "[8920968 rows x 1 columns]"
      ]
     },
     "execution_count": 36,
     "metadata": {},
     "output_type": "execute_result"
    }
   ],
   "source": [
    "exo_tlens = pd.read_csv(\n",
    "    '../exoiii_dataset/exo.sam',\n",
    "    sep='\\t',\n",
    "    names=['tlen'],\n",
    "    usecols=[8],\n",
    ")\n",
    "\n",
    "exo_tlens"
   ]
  },
  {
   "cell_type": "markdown",
   "id": "f4521065-f1d3-48f7-a246-de933be42011",
   "metadata": {
    "jp-MarkdownHeadingCollapsed": true,
    "tags": []
   },
   "source": [
    "#### Load the dyad probability distributions dictionary"
   ]
  },
  {
   "cell_type": "code",
   "execution_count": 37,
   "id": "7a1e3432-7c86-4f11-ba5c-a543b473bb39",
   "metadata": {
    "tags": []
   },
   "outputs": [],
   "source": [
    "with open('../exoiii_dataset/exo_dyad_dists.pickle', 'rb') as file:\n",
    "    exo_dyad_dists = pickle.load(file)"
   ]
  },
  {
   "cell_type": "markdown",
   "id": "c8439e15-cd5c-4c1b-b1ed-b0a9b0d2211c",
   "metadata": {
    "tags": []
   },
   "source": [
    "### Analyse the data"
   ]
  },
  {
   "cell_type": "markdown",
   "id": "7115220c-3e26-4571-9641-ee614550fb42",
   "metadata": {
    "jp-MarkdownHeadingCollapsed": true,
    "tags": []
   },
   "source": [
    "#### Get an MNase-Exo-seq template length distribution"
   ]
  },
  {
   "cell_type": "code",
   "execution_count": 35,
   "id": "d9eb3f24-60bd-42d0-8477-5e8047ad5e83",
   "metadata": {
    "tags": []
   },
   "outputs": [
    {
     "data": {
      "text/html": [
       "<div>\n",
       "<style scoped>\n",
       "    .dataframe tbody tr th:only-of-type {\n",
       "        vertical-align: middle;\n",
       "    }\n",
       "\n",
       "    .dataframe tbody tr th {\n",
       "        vertical-align: top;\n",
       "    }\n",
       "\n",
       "    .dataframe thead th {\n",
       "        text-align: right;\n",
       "    }\n",
       "</style>\n",
       "<table border=\"1\" class=\"dataframe\">\n",
       "  <thead>\n",
       "    <tr style=\"text-align: right;\">\n",
       "      <th></th>\n",
       "      <th>tlen</th>\n",
       "    </tr>\n",
       "    <tr>\n",
       "      <th>tlen</th>\n",
       "      <th></th>\n",
       "    </tr>\n",
       "  </thead>\n",
       "  <tbody>\n",
       "    <tr>\n",
       "      <th>78</th>\n",
       "      <td>0.000264</td>\n",
       "    </tr>\n",
       "    <tr>\n",
       "      <th>79</th>\n",
       "      <td>0.000276</td>\n",
       "    </tr>\n",
       "    <tr>\n",
       "      <th>80</th>\n",
       "      <td>0.000303</td>\n",
       "    </tr>\n",
       "    <tr>\n",
       "      <th>81</th>\n",
       "      <td>0.000352</td>\n",
       "    </tr>\n",
       "    <tr>\n",
       "      <th>82</th>\n",
       "      <td>0.000381</td>\n",
       "    </tr>\n",
       "    <tr>\n",
       "      <th>...</th>\n",
       "      <td>...</td>\n",
       "    </tr>\n",
       "    <tr>\n",
       "      <th>196</th>\n",
       "      <td>0.000019</td>\n",
       "    </tr>\n",
       "    <tr>\n",
       "      <th>197</th>\n",
       "      <td>0.000011</td>\n",
       "    </tr>\n",
       "    <tr>\n",
       "      <th>198</th>\n",
       "      <td>0.000015</td>\n",
       "    </tr>\n",
       "    <tr>\n",
       "      <th>199</th>\n",
       "      <td>0.000012</td>\n",
       "    </tr>\n",
       "    <tr>\n",
       "      <th>200</th>\n",
       "      <td>0.000012</td>\n",
       "    </tr>\n",
       "  </tbody>\n",
       "</table>\n",
       "<p>123 rows × 1 columns</p>\n",
       "</div>"
      ],
      "text/plain": [
       "          tlen\n",
       "tlen          \n",
       "78    0.000264\n",
       "79    0.000276\n",
       "80    0.000303\n",
       "81    0.000352\n",
       "82    0.000381\n",
       "...        ...\n",
       "196   0.000019\n",
       "197   0.000011\n",
       "198   0.000015\n",
       "199   0.000012\n",
       "200   0.000012\n",
       "\n",
       "[123 rows x 1 columns]"
      ]
     },
     "execution_count": 35,
     "metadata": {},
     "output_type": "execute_result"
    }
   ],
   "source": [
    "exo_tlen_dist = exo_tlens.tlen\n",
    "exo_tlen_dist = exo_tlens[exo_tlen_dist.between(0, 200)] \\\n",
    "                                                .groupby(exo_tlen_dist) \\\n",
    "                                                .count()\n",
    "exo_tlen_dist = exo_tlen_dist.loc[78:]\n",
    "exo_tlen_dist = exo_tlen_dist / exo_tlen_dist.sum()\n",
    "\n",
    "exo_tlen_dist"
   ]
  },
  {
   "cell_type": "markdown",
   "id": "3937516a-a9db-4de8-87be-7528e9e1314a",
   "metadata": {
    "jp-MarkdownHeadingCollapsed": true,
    "tags": []
   },
   "source": [
    "#### Look at the MNase-Exo-seq template length distribution"
   ]
  },
  {
   "cell_type": "code",
   "execution_count": 36,
   "id": "b83ae0d9-47ba-46f7-94f8-59f41a752539",
   "metadata": {
    "tags": []
   },
   "outputs": [
    {
     "data": {
      "image/png": "[encoded data removed]",
      "text/plain": [
       "<Figure size 1000x500 with 1 Axes>"
      ]
     },
     "metadata": {},
     "output_type": "display_data"
    }
   ],
   "source": [
    "plt.figure(figsize=(10, 5))\n",
    "\n",
    "ax = sns.lineplot(\n",
    "    exo_tlen_dist.tlen,\n",
    "    color=INDIGO,\n",
    "    linewidth=3\n",
    ")\n",
    "\n",
    "plt.title('Read length distribution for MNase-Exo-seq dataset')\n",
    "plt.xlabel('Read length, bp')\n",
    "plt.ylabel('Read length probability')\n",
    "plt.legend([], [], frameon=False)\n",
    "ax.spines[['right', 'top']].set_visible(False)\n",
    "\n",
    "plt.show()"
   ]
  },
  {
   "cell_type": "markdown",
   "id": "c3a06e47-0989-4265-800d-19bc19e544f3",
   "metadata": {
    "jp-MarkdownHeadingCollapsed": true,
    "tags": []
   },
   "source": [
    "#### Define a function to sample a random template length from the MNase-Exo-seq template length distribution"
   ]
  },
  {
   "cell_type": "code",
   "execution_count": 37,
   "id": "9175faee-6964-4af7-abf1-c7abc012a5b7",
   "metadata": {
    "tags": []
   },
   "outputs": [],
   "source": [
    "def get_random_tlen():\n",
    "    '''\n",
    "    Samples a random template length (78–200 inclusively) from the MNase-Exo-seq template length distribution.\n",
    "    \n",
    "    Returns\n",
    "    -------\n",
    "    tlen : int\n",
    "        Template length.\n",
    "    '''\n",
    "    tlen =  np.random.choice(\n",
    "        np.arange(78, 201),\n",
    "        p=exo_tlen_dist.tlen\n",
    "    )\n",
    "    \n",
    "    return tlen"
   ]
  },
  {
   "cell_type": "markdown",
   "id": "42823ab8-c77a-42bb-a3fa-04406c33dbf9",
   "metadata": {
    "jp-MarkdownHeadingCollapsed": true,
    "tags": []
   },
   "source": [
    "#### Look at a dyad probability distribution at an arbitrary read length"
   ]
  },
  {
   "cell_type": "code",
   "execution_count": 563,
   "id": "af8539ee-14e9-4c33-84d7-60e12ffc5c3f",
   "metadata": {
    "tags": []
   },
   "outputs": [
    {
     "data": {
      "image/png": "[encoded data removed]",
      "text/plain": [
       "<Figure size 640x480 with 1 Axes>"
      ]
     },
     "metadata": {},
     "output_type": "display_data"
    }
   ],
   "source": [
    "ax = sns.lineplot(\n",
    "    exo_dyad_dists[200],\n",
    "    linewidth=3,\n",
    "    color=INDIGO\n",
    ")\n",
    "\n",
    "plt.xlabel('Distance relatively to a dyad, bp')\n",
    "plt.ylabel('Probability of a dyad')\n",
    "\n",
    "plt.show()"
   ]
  },
  {
   "cell_type": "markdown",
   "id": "ff3a836f-c481-4663-aa6f-6159f4998542",
   "metadata": {
    "jp-MarkdownHeadingCollapsed": true,
    "tags": []
   },
   "source": [
    "#### Define a function to sample a random dyad position from the MNase-Exo-seq dyad distribution"
   ]
  },
  {
   "cell_type": "code",
   "execution_count": 39,
   "id": "6dd6c383-1151-4983-9c75-20e1158a33b5",
   "metadata": {
    "tags": []
   },
   "outputs": [],
   "source": [
    "def get_random_exo_dyad_pos(length):\n",
    "    '''\n",
    "    Samples a random dyad position from an MNase-Exo-seq dyad distribution for a given length.\n",
    "    \n",
    "    Parameters\n",
    "    ----------\n",
    "    length : int\n",
    "        Length of the template to sample from.\n",
    "    \n",
    "    Returns\n",
    "    -------\n",
    "    dyad_pos : int\n",
    "        Random 1-based position of a dyad on the template of the given length.\n",
    "    '''\n",
    "    dyad_pos = np.random.choice(\n",
    "        np.arange(1, 201),\n",
    "        p=list(exo_dyad_dists[length])\n",
    "    )\n",
    "    \n",
    "    return dyad_pos"
   ]
  },
  {
   "cell_type": "markdown",
   "id": "9516089d-a971-4f06-b22d-17c7929eb950",
   "metadata": {
    "jp-MarkdownHeadingCollapsed": true,
    "tags": []
   },
   "source": [
    "## Prepare a dataset"
   ]
  },
  {
   "cell_type": "markdown",
   "id": "ccd26695-01f4-471d-bef6-9d1344ee237e",
   "metadata": {
    "jp-MarkdownHeadingCollapsed": true,
    "tags": []
   },
   "source": [
    "### Extract dyad positions"
   ]
  },
  {
   "cell_type": "markdown",
   "id": "76292ad0-6e80-4595-831c-3538cb172690",
   "metadata": {
    "jp-MarkdownHeadingCollapsed": true,
    "tags": []
   },
   "source": [
    "#### Convert .bw dyad positions to .bed, removing the first non-informative line"
   ]
  },
  {
   "cell_type": "code",
   "execution_count": 39,
   "id": "6d78379d-9bf3-4880-a175-b65d4c91353e",
   "metadata": {
    "tags": []
   },
   "outputs": [
    {
     "name": "stdout",
     "output_type": "stream",
     "text": [
      "chrI\t32\t33\t2.572\n",
      "chrI\t33\t38\t0\n",
      "chrI\t38\t39\t7.715\n",
      "chrI\t39\t66\t0\n",
      "chrI\t66\t67\t12.859\n"
     ]
    }
   ],
   "source": [
    "%%bash\n",
    "\n",
    "for i in 1 2 3\n",
    "do\n",
    "    bigWigToBedGraph ../dataset_${i}/dyads.bw ../dataset_${i}/dyads.bed\n",
    "\n",
    "    sed 1d ../dataset_${i}/dyads.bed > ../dataset_${i}/dyads_tmp.bed\n",
    "\n",
    "    mv ../dataset_${i}/dyads_tmp.bed ../dataset_${i}/dyads.bed\n",
    "done\n",
    "\n",
    "head -n 5 ../dataset_1/dyads.bed"
   ]
  },
  {
   "cell_type": "markdown",
   "id": "353e6e4a-b582-40a5-aa9c-82726ed91e15",
   "metadata": {
    "jp-MarkdownHeadingCollapsed": true,
    "tags": []
   },
   "source": [
    "#### Load the dyad positions"
   ]
  },
  {
   "cell_type": "code",
   "execution_count": 40,
   "id": "b7506633-10be-465e-9f5a-9496b1824182",
   "metadata": {
    "tags": []
   },
   "outputs": [
    {
     "data": {
      "text/html": [
       "<div>\n",
       "<style scoped>\n",
       "    .dataframe tbody tr th:only-of-type {\n",
       "        vertical-align: middle;\n",
       "    }\n",
       "\n",
       "    .dataframe tbody tr th {\n",
       "        vertical-align: top;\n",
       "    }\n",
       "\n",
       "    .dataframe thead th {\n",
       "        text-align: right;\n",
       "    }\n",
       "</style>\n",
       "<table border=\"1\" class=\"dataframe\">\n",
       "  <thead>\n",
       "    <tr style=\"text-align: right;\">\n",
       "      <th></th>\n",
       "      <th>chr</th>\n",
       "      <th>dyad_pos</th>\n",
       "      <th>signal</th>\n",
       "    </tr>\n",
       "  </thead>\n",
       "  <tbody>\n",
       "    <tr>\n",
       "      <th>0</th>\n",
       "      <td>chrI</td>\n",
       "      <td>33</td>\n",
       "      <td>2.572</td>\n",
       "    </tr>\n",
       "    <tr>\n",
       "      <th>1</th>\n",
       "      <td>chrI</td>\n",
       "      <td>38</td>\n",
       "      <td>0.000</td>\n",
       "    </tr>\n",
       "    <tr>\n",
       "      <th>2</th>\n",
       "      <td>chrI</td>\n",
       "      <td>39</td>\n",
       "      <td>7.715</td>\n",
       "    </tr>\n",
       "    <tr>\n",
       "      <th>3</th>\n",
       "      <td>chrI</td>\n",
       "      <td>66</td>\n",
       "      <td>0.000</td>\n",
       "    </tr>\n",
       "    <tr>\n",
       "      <th>4</th>\n",
       "      <td>chrI</td>\n",
       "      <td>67</td>\n",
       "      <td>12.859</td>\n",
       "    </tr>\n",
       "    <tr>\n",
       "      <th>...</th>\n",
       "      <td>...</td>\n",
       "      <td>...</td>\n",
       "      <td>...</td>\n",
       "    </tr>\n",
       "    <tr>\n",
       "      <th>3383780</th>\n",
       "      <td>chrXVI</td>\n",
       "      <td>948031</td>\n",
       "      <td>0.000</td>\n",
       "    </tr>\n",
       "    <tr>\n",
       "      <th>3383781</th>\n",
       "      <td>chrXVI</td>\n",
       "      <td>948032</td>\n",
       "      <td>7.568</td>\n",
       "    </tr>\n",
       "    <tr>\n",
       "      <th>3383782</th>\n",
       "      <td>chrXVI</td>\n",
       "      <td>948034</td>\n",
       "      <td>0.000</td>\n",
       "    </tr>\n",
       "    <tr>\n",
       "      <th>3383783</th>\n",
       "      <td>chrXVI</td>\n",
       "      <td>948035</td>\n",
       "      <td>5.046</td>\n",
       "    </tr>\n",
       "    <tr>\n",
       "      <th>3383784</th>\n",
       "      <td>chrXVI</td>\n",
       "      <td>948066</td>\n",
       "      <td>0.000</td>\n",
       "    </tr>\n",
       "  </tbody>\n",
       "</table>\n",
       "<p>3383785 rows × 3 columns</p>\n",
       "</div>"
      ],
      "text/plain": [
       "            chr  dyad_pos  signal\n",
       "0          chrI        33   2.572\n",
       "1          chrI        38   0.000\n",
       "2          chrI        39   7.715\n",
       "3          chrI        66   0.000\n",
       "4          chrI        67  12.859\n",
       "...         ...       ...     ...\n",
       "3383780  chrXVI    948031   0.000\n",
       "3383781  chrXVI    948032   7.568\n",
       "3383782  chrXVI    948034   0.000\n",
       "3383783  chrXVI    948035   5.046\n",
       "3383784  chrXVI    948066   0.000\n",
       "\n",
       "[3383785 rows x 3 columns]"
      ]
     },
     "execution_count": 40,
     "metadata": {},
     "output_type": "execute_result"
    }
   ],
   "source": [
    "def load_dyad_positions(dataset_number):\n",
    "    raw_dyad_positions = pd.read_csv(\n",
    "        f'../dataset_{dataset_number}/dyads.bed',\n",
    "        sep='\\t',\n",
    "        usecols=[0, 2, 3],\n",
    "        names=['chr', 'dyad_pos', 'signal']\n",
    "    )\n",
    "    return raw_dyad_positions\n",
    "\n",
    "\n",
    "raw_dyad_positions_1 = load_dyad_positions(1)\n",
    "raw_dyad_positions_2 = load_dyad_positions(2)\n",
    "raw_dyad_positions_3 = load_dyad_positions(3)\n",
    "\n",
    "raw_dyad_positions_1"
   ]
  },
  {
   "cell_type": "markdown",
   "id": "cb4b6db7-1ae7-4376-9933-97802ec9640f",
   "metadata": {
    "jp-MarkdownHeadingCollapsed": true,
    "tags": []
   },
   "source": [
    "#### Look at signal probability distributions"
   ]
  },
  {
   "cell_type": "code",
   "execution_count": 42,
   "id": "cf37958f-3ce3-411c-b2ae-dae04364a46c",
   "metadata": {},
   "outputs": [
    {
     "data": {
      "image/png": "[encoded data removed]",
      "text/plain": [
       "<Figure size 2000x500 with 3 Axes>"
      ]
     },
     "metadata": {},
     "output_type": "display_data"
    }
   ],
   "source": [
    "fig, ax = plt.subplots(1, 3, figsize=(20, 5))\n",
    "\n",
    "for i in range(3):\n",
    "    sns.histplot(\n",
    "        eval(f'raw_dyad_positions_{i+1}.signal'),\n",
    "        binwidth=0.3,\n",
    "        binrange=(0, 20),\n",
    "        color=INDIGO,\n",
    "        alpha=0.9,\n",
    "        stat='probability',\n",
    "        ax=ax[i]\n",
    "    )\n",
    "    ax[i].set_xlabel('Signal')\n",
    "    ax[i].set_ylabel('Probability')\n",
    "    ax[i].spines[['right', 'top']].set_visible(False)\n",
    "\n",
    "plt.title(\n",
    "    'Signal probability distributions for chemical cleavage datasets',\n",
    "    fontsize=15,\n",
    "    x=-0.61\n",
    ")\n",
    "\n",
    "plt.show()"
   ]
  },
  {
   "cell_type": "markdown",
   "id": "e6185b96-a90c-48ac-9faa-7cf06985d3a1",
   "metadata": {
    "jp-MarkdownHeadingCollapsed": true,
    "tags": []
   },
   "source": [
    "#### Filter rows with low signal"
   ]
  },
  {
   "cell_type": "code",
   "execution_count": 43,
   "id": "a532fc32-6967-456d-8420-d21a7e017e64",
   "metadata": {
    "tags": []
   },
   "outputs": [
    {
     "data": {
      "text/html": [
       "<div>\n",
       "<style scoped>\n",
       "    .dataframe tbody tr th:only-of-type {\n",
       "        vertical-align: middle;\n",
       "    }\n",
       "\n",
       "    .dataframe tbody tr th {\n",
       "        vertical-align: top;\n",
       "    }\n",
       "\n",
       "    .dataframe thead th {\n",
       "        text-align: right;\n",
       "    }\n",
       "</style>\n",
       "<table border=\"1\" class=\"dataframe\">\n",
       "  <thead>\n",
       "    <tr style=\"text-align: right;\">\n",
       "      <th></th>\n",
       "      <th>chr</th>\n",
       "      <th>dyad_pos</th>\n",
       "    </tr>\n",
       "  </thead>\n",
       "  <tbody>\n",
       "    <tr>\n",
       "      <th>0</th>\n",
       "      <td>chrI</td>\n",
       "      <td>39</td>\n",
       "    </tr>\n",
       "    <tr>\n",
       "      <th>1</th>\n",
       "      <td>chrI</td>\n",
       "      <td>67</td>\n",
       "    </tr>\n",
       "    <tr>\n",
       "      <th>2</th>\n",
       "      <td>chrI</td>\n",
       "      <td>94</td>\n",
       "    </tr>\n",
       "    <tr>\n",
       "      <th>3</th>\n",
       "      <td>chrI</td>\n",
       "      <td>100</td>\n",
       "    </tr>\n",
       "    <tr>\n",
       "      <th>4</th>\n",
       "      <td>chrI</td>\n",
       "      <td>129</td>\n",
       "    </tr>\n",
       "    <tr>\n",
       "      <th>...</th>\n",
       "      <td>...</td>\n",
       "      <td>...</td>\n",
       "    </tr>\n",
       "    <tr>\n",
       "      <th>594211</th>\n",
       "      <td>chrXVI</td>\n",
       "      <td>947724</td>\n",
       "    </tr>\n",
       "    <tr>\n",
       "      <th>594212</th>\n",
       "      <td>chrXVI</td>\n",
       "      <td>947817</td>\n",
       "    </tr>\n",
       "    <tr>\n",
       "      <th>594213</th>\n",
       "      <td>chrXVI</td>\n",
       "      <td>947840</td>\n",
       "    </tr>\n",
       "    <tr>\n",
       "      <th>594214</th>\n",
       "      <td>chrXVI</td>\n",
       "      <td>948030</td>\n",
       "    </tr>\n",
       "    <tr>\n",
       "      <th>594215</th>\n",
       "      <td>chrXVI</td>\n",
       "      <td>948032</td>\n",
       "    </tr>\n",
       "  </tbody>\n",
       "</table>\n",
       "<p>594216 rows × 2 columns</p>\n",
       "</div>"
      ],
      "text/plain": [
       "           chr  dyad_pos\n",
       "0         chrI        39\n",
       "1         chrI        67\n",
       "2         chrI        94\n",
       "3         chrI       100\n",
       "4         chrI       129\n",
       "...        ...       ...\n",
       "594211  chrXVI    947724\n",
       "594212  chrXVI    947817\n",
       "594213  chrXVI    947840\n",
       "594214  chrXVI    948030\n",
       "594215  chrXVI    948032\n",
       "\n",
       "[594216 rows x 2 columns]"
      ]
     },
     "execution_count": 43,
     "metadata": {},
     "output_type": "execute_result"
    }
   ],
   "source": [
    "def filter_rows_wo_signal(raw_dyad_positions):\n",
    "    dyad_positions = raw_dyad_positions \\\n",
    "        .query('signal > 7') \\\n",
    "        .drop('signal', axis=1) \\\n",
    "        .reset_index(drop=True)\n",
    "    return dyad_positions\n",
    "\n",
    "\n",
    "dyad_positions_1 = filter_rows_wo_signal(raw_dyad_positions_1)\n",
    "dyad_positions_2 = filter_rows_wo_signal(raw_dyad_positions_2)\n",
    "dyad_positions_3 = filter_rows_wo_signal(raw_dyad_positions_3)\n",
    "\n",
    "dyad_positions_1"
   ]
  },
  {
   "cell_type": "markdown",
   "id": "17600ad0-00d4-404d-9bb7-d5d5fb8a199d",
   "metadata": {
    "jp-MarkdownHeadingCollapsed": true,
    "tags": []
   },
   "source": [
    "### Calculate template positions"
   ]
  },
  {
   "cell_type": "markdown",
   "id": "21c1078e-3da5-4e7b-b82c-3cb628271293",
   "metadata": {
    "jp-MarkdownHeadingCollapsed": true,
    "tags": []
   },
   "source": [
    "#### Calculate template positions"
   ]
  },
  {
   "cell_type": "code",
   "execution_count": 565,
   "id": "6265e0cb-6f93-474c-b403-1ee6d8aad844",
   "metadata": {
    "tags": []
   },
   "outputs": [
    {
     "data": {
      "application/vnd.jupyter.widget-view+json": {
       "model_id": "fb6d66569b6f41db8401a680799cfa63",
       "version_major": 2,
       "version_minor": 0
      },
      "text/plain": [
       "  0%|          | 0/594216 [00:00<?, ?it/s]"
      ]
     },
     "metadata": {},
     "output_type": "display_data"
    },
    {
     "data": {
      "application/vnd.jupyter.widget-view+json": {
       "model_id": "00b14071f53c48d49ba89919e8b91fd3",
       "version_major": 2,
       "version_minor": 0
      },
      "text/plain": [
       "  0%|          | 0/506830 [00:00<?, ?it/s]"
      ]
     },
     "metadata": {},
     "output_type": "display_data"
    },
    {
     "data": {
      "application/vnd.jupyter.widget-view+json": {
       "model_id": "7c4cb85fb4e0474d8d6d88dc7bc80fef",
       "version_major": 2,
       "version_minor": 0
      },
      "text/plain": [
       "  0%|          | 0/323248 [00:00<?, ?it/s]"
      ]
     },
     "metadata": {},
     "output_type": "display_data"
    },
    {
     "data": {
      "text/html": [
       "<div>\n",
       "<style scoped>\n",
       "    .dataframe tbody tr th:only-of-type {\n",
       "        vertical-align: middle;\n",
       "    }\n",
       "\n",
       "    .dataframe tbody tr th {\n",
       "        vertical-align: top;\n",
       "    }\n",
       "\n",
       "    .dataframe thead th {\n",
       "        text-align: right;\n",
       "    }\n",
       "</style>\n",
       "<table border=\"1\" class=\"dataframe\">\n",
       "  <thead>\n",
       "    <tr style=\"text-align: right;\">\n",
       "      <th></th>\n",
       "      <th>chr</th>\n",
       "      <th>dyad_pos</th>\n",
       "      <th>start_pos</th>\n",
       "      <th>internal_dyad_pos</th>\n",
       "      <th>stop_pos</th>\n",
       "    </tr>\n",
       "  </thead>\n",
       "  <tbody>\n",
       "    <tr>\n",
       "      <th>0</th>\n",
       "      <td>chrI</td>\n",
       "      <td>39</td>\n",
       "      <td>-62</td>\n",
       "      <td>100</td>\n",
       "      <td>138</td>\n",
       "    </tr>\n",
       "    <tr>\n",
       "      <th>1</th>\n",
       "      <td>chrI</td>\n",
       "      <td>67</td>\n",
       "      <td>-34</td>\n",
       "      <td>100</td>\n",
       "      <td>166</td>\n",
       "    </tr>\n",
       "    <tr>\n",
       "      <th>2</th>\n",
       "      <td>chrI</td>\n",
       "      <td>94</td>\n",
       "      <td>-7</td>\n",
       "      <td>100</td>\n",
       "      <td>193</td>\n",
       "    </tr>\n",
       "    <tr>\n",
       "      <th>3</th>\n",
       "      <td>chrI</td>\n",
       "      <td>100</td>\n",
       "      <td>-1</td>\n",
       "      <td>100</td>\n",
       "      <td>199</td>\n",
       "    </tr>\n",
       "    <tr>\n",
       "      <th>4</th>\n",
       "      <td>chrI</td>\n",
       "      <td>129</td>\n",
       "      <td>28</td>\n",
       "      <td>100</td>\n",
       "      <td>228</td>\n",
       "    </tr>\n",
       "    <tr>\n",
       "      <th>...</th>\n",
       "      <td>...</td>\n",
       "      <td>...</td>\n",
       "      <td>...</td>\n",
       "      <td>...</td>\n",
       "      <td>...</td>\n",
       "    </tr>\n",
       "    <tr>\n",
       "      <th>594211</th>\n",
       "      <td>chrXVI</td>\n",
       "      <td>947724</td>\n",
       "      <td>947622</td>\n",
       "      <td>101</td>\n",
       "      <td>947822</td>\n",
       "    </tr>\n",
       "    <tr>\n",
       "      <th>594212</th>\n",
       "      <td>chrXVI</td>\n",
       "      <td>947817</td>\n",
       "      <td>947716</td>\n",
       "      <td>100</td>\n",
       "      <td>947916</td>\n",
       "    </tr>\n",
       "    <tr>\n",
       "      <th>594213</th>\n",
       "      <td>chrXVI</td>\n",
       "      <td>947840</td>\n",
       "      <td>947738</td>\n",
       "      <td>101</td>\n",
       "      <td>947938</td>\n",
       "    </tr>\n",
       "    <tr>\n",
       "      <th>594214</th>\n",
       "      <td>chrXVI</td>\n",
       "      <td>948030</td>\n",
       "      <td>947928</td>\n",
       "      <td>101</td>\n",
       "      <td>948128</td>\n",
       "    </tr>\n",
       "    <tr>\n",
       "      <th>594215</th>\n",
       "      <td>chrXVI</td>\n",
       "      <td>948032</td>\n",
       "      <td>947930</td>\n",
       "      <td>101</td>\n",
       "      <td>948130</td>\n",
       "    </tr>\n",
       "  </tbody>\n",
       "</table>\n",
       "<p>594216 rows × 5 columns</p>\n",
       "</div>"
      ],
      "text/plain": [
       "           chr  dyad_pos  start_pos  internal_dyad_pos  stop_pos\n",
       "0         chrI        39        -62                100       138\n",
       "1         chrI        67        -34                100       166\n",
       "2         chrI        94         -7                100       193\n",
       "3         chrI       100         -1                100       199\n",
       "4         chrI       129         28                100       228\n",
       "...        ...       ...        ...                ...       ...\n",
       "594211  chrXVI    947724     947622                101    947822\n",
       "594212  chrXVI    947817     947716                100    947916\n",
       "594213  chrXVI    947840     947738                101    947938\n",
       "594214  chrXVI    948030     947928                101    948128\n",
       "594215  chrXVI    948032     947930                101    948130\n",
       "\n",
       "[594216 rows x 5 columns]"
      ]
     },
     "execution_count": 565,
     "metadata": {},
     "output_type": "execute_result"
    }
   ],
   "source": [
    "def get_template_position(dyad_pos):\n",
    "    # Get random dyad position in the internal tempalte's reference frame\n",
    "    # tlen = get_random_tlen()\n",
    "    tlen = 200\n",
    "    internal_dyad_pos = get_random_exo_dyad_pos(tlen)\n",
    "    \n",
    "    # Calculate template's boundaries\n",
    "    start_pos = dyad_pos - internal_dyad_pos - 1\n",
    "    stop_pos = start_pos + tlen\n",
    "    \n",
    "    return start_pos, internal_dyad_pos, stop_pos\n",
    "\n",
    "\n",
    "def calc_template_positions(dyad_positions):\n",
    "    with Pool(num_workers) as pool:\n",
    "        iterator = pool.imap(get_template_position, dyad_positions['dyad_pos'])\n",
    "        result = np.array(list(tqdm(\n",
    "            iterator,\n",
    "            total=len(dyad_positions),\n",
    "            colour=INDIGO\n",
    "        )))\n",
    "    \n",
    "    template_positions = dyad_positions.assign(\n",
    "        start_pos=result[:, 0],\n",
    "        internal_dyad_pos=result[:, 1],\n",
    "        stop_pos=result[:, 2]\n",
    "    )\n",
    "\n",
    "    return template_positions\n",
    "\n",
    "\n",
    "template_positions_1 = calc_template_positions(dyad_positions_1)\n",
    "template_positions_2 = calc_template_positions(dyad_positions_2)\n",
    "template_positions_3 = calc_template_positions(dyad_positions_3)\n",
    "\n",
    "template_positions_1"
   ]
  },
  {
   "cell_type": "markdown",
   "id": "47a45c66-591d-44a5-bbb4-a467e58389df",
   "metadata": {
    "jp-MarkdownHeadingCollapsed": true,
    "tags": []
   },
   "source": [
    "#### Filter template positions to be inside the reference genome"
   ]
  },
  {
   "cell_type": "code",
   "execution_count": 566,
   "id": "552c2b65-c71c-42bb-bc8d-4928d0c07e30",
   "metadata": {
    "tags": []
   },
   "outputs": [
    {
     "data": {
      "text/html": [
       "<div>\n",
       "<style scoped>\n",
       "    .dataframe tbody tr th:only-of-type {\n",
       "        vertical-align: middle;\n",
       "    }\n",
       "\n",
       "    .dataframe tbody tr th {\n",
       "        vertical-align: top;\n",
       "    }\n",
       "\n",
       "    .dataframe thead th {\n",
       "        text-align: right;\n",
       "    }\n",
       "</style>\n",
       "<table border=\"1\" class=\"dataframe\">\n",
       "  <thead>\n",
       "    <tr style=\"text-align: right;\">\n",
       "      <th></th>\n",
       "      <th>chr</th>\n",
       "      <th>dyad_pos</th>\n",
       "      <th>start_pos</th>\n",
       "      <th>internal_dyad_pos</th>\n",
       "      <th>stop_pos</th>\n",
       "    </tr>\n",
       "  </thead>\n",
       "  <tbody>\n",
       "    <tr>\n",
       "      <th>0</th>\n",
       "      <td>chrI</td>\n",
       "      <td>129</td>\n",
       "      <td>28</td>\n",
       "      <td>100</td>\n",
       "      <td>228</td>\n",
       "    </tr>\n",
       "    <tr>\n",
       "      <th>1</th>\n",
       "      <td>chrI</td>\n",
       "      <td>133</td>\n",
       "      <td>32</td>\n",
       "      <td>100</td>\n",
       "      <td>232</td>\n",
       "    </tr>\n",
       "    <tr>\n",
       "      <th>2</th>\n",
       "      <td>chrI</td>\n",
       "      <td>135</td>\n",
       "      <td>34</td>\n",
       "      <td>100</td>\n",
       "      <td>234</td>\n",
       "    </tr>\n",
       "    <tr>\n",
       "      <th>3</th>\n",
       "      <td>chrI</td>\n",
       "      <td>139</td>\n",
       "      <td>38</td>\n",
       "      <td>100</td>\n",
       "      <td>238</td>\n",
       "    </tr>\n",
       "    <tr>\n",
       "      <th>4</th>\n",
       "      <td>chrI</td>\n",
       "      <td>146</td>\n",
       "      <td>45</td>\n",
       "      <td>100</td>\n",
       "      <td>245</td>\n",
       "    </tr>\n",
       "    <tr>\n",
       "      <th>...</th>\n",
       "      <td>...</td>\n",
       "      <td>...</td>\n",
       "      <td>...</td>\n",
       "      <td>...</td>\n",
       "      <td>...</td>\n",
       "    </tr>\n",
       "    <tr>\n",
       "      <th>593999</th>\n",
       "      <td>chrXVI</td>\n",
       "      <td>947720</td>\n",
       "      <td>947619</td>\n",
       "      <td>100</td>\n",
       "      <td>947819</td>\n",
       "    </tr>\n",
       "    <tr>\n",
       "      <th>594000</th>\n",
       "      <td>chrXVI</td>\n",
       "      <td>947721</td>\n",
       "      <td>947620</td>\n",
       "      <td>100</td>\n",
       "      <td>947820</td>\n",
       "    </tr>\n",
       "    <tr>\n",
       "      <th>594001</th>\n",
       "      <td>chrXVI</td>\n",
       "      <td>947722</td>\n",
       "      <td>947620</td>\n",
       "      <td>101</td>\n",
       "      <td>947820</td>\n",
       "    </tr>\n",
       "    <tr>\n",
       "      <th>594002</th>\n",
       "      <td>chrXVI</td>\n",
       "      <td>947724</td>\n",
       "      <td>947622</td>\n",
       "      <td>101</td>\n",
       "      <td>947822</td>\n",
       "    </tr>\n",
       "    <tr>\n",
       "      <th>594003</th>\n",
       "      <td>chrXVI</td>\n",
       "      <td>947817</td>\n",
       "      <td>947716</td>\n",
       "      <td>100</td>\n",
       "      <td>947916</td>\n",
       "    </tr>\n",
       "  </tbody>\n",
       "</table>\n",
       "<p>594004 rows × 5 columns</p>\n",
       "</div>"
      ],
      "text/plain": [
       "           chr  dyad_pos  start_pos  internal_dyad_pos  stop_pos\n",
       "0         chrI       129         28                100       228\n",
       "1         chrI       133         32                100       232\n",
       "2         chrI       135         34                100       234\n",
       "3         chrI       139         38                100       238\n",
       "4         chrI       146         45                100       245\n",
       "...        ...       ...        ...                ...       ...\n",
       "593999  chrXVI    947720     947619                100    947819\n",
       "594000  chrXVI    947721     947620                100    947820\n",
       "594001  chrXVI    947722     947620                101    947820\n",
       "594002  chrXVI    947724     947622                101    947822\n",
       "594003  chrXVI    947817     947716                100    947916\n",
       "\n",
       "[594004 rows x 5 columns]"
      ]
     },
     "execution_count": 566,
     "metadata": {},
     "output_type": "execute_result"
    }
   ],
   "source": [
    "def filter_max_stop_positions(template_positions):\n",
    "    max_positions = template_positions.groupby('chr')['stop_pos'].max() - 200\n",
    "    \n",
    "    filtered_template_positions = pd.merge(\n",
    "        template_positions,\n",
    "        max_positions,\n",
    "        on='chr',\n",
    "        suffixes=('', '_max')\n",
    "    )\n",
    "    filtered_template_positions = filtered_template_positions \\\n",
    "        .query('(start_pos > 0) & (stop_pos< stop_pos_max)') \\\n",
    "        .drop('stop_pos_max', axis=1) \\\n",
    "        .reset_index(drop=True)\n",
    "    \n",
    "    return filtered_template_positions\n",
    "\n",
    "filtered_template_positions_1 = filter_max_stop_positions(template_positions_1)\n",
    "filtered_template_positions_2 = filter_max_stop_positions(template_positions_2)\n",
    "filtered_template_positions_3 = filter_max_stop_positions(template_positions_3)\n",
    "\n",
    "filtered_template_positions_1"
   ]
  },
  {
   "cell_type": "markdown",
   "id": "f2b5ad8a-1ada-43a0-8a64-ea131189639a",
   "metadata": {
    "jp-MarkdownHeadingCollapsed": true,
    "tags": []
   },
   "source": [
    "#### Calculate collateral dyad positions"
   ]
  },
  {
   "cell_type": "code",
   "execution_count": 567,
   "id": "94f746d1-43e4-4b0b-b17c-7a6c31adbcdd",
   "metadata": {
    "tags": []
   },
   "outputs": [
    {
     "data": {
      "application/vnd.jupyter.widget-view+json": {
       "model_id": "2c4335d7e2c84a98a55c5189ed136588",
       "version_major": 2,
       "version_minor": 0
      },
      "text/plain": [
       "  0%|          | 0/594004 [00:00<?, ?it/s]"
      ]
     },
     "metadata": {},
     "output_type": "display_data"
    },
    {
     "data": {
      "application/vnd.jupyter.widget-view+json": {
       "model_id": "6c269cd72b2d4c0885474c4315473b3e",
       "version_major": 2,
       "version_minor": 0
      },
      "text/plain": [
       "  0%|          | 0/506700 [00:00<?, ?it/s]"
      ]
     },
     "metadata": {},
     "output_type": "display_data"
    },
    {
     "data": {
      "application/vnd.jupyter.widget-view+json": {
       "model_id": "b6e4065d87c142678986b4a7c01f7e29",
       "version_major": 2,
       "version_minor": 0
      },
      "text/plain": [
       "  0%|          | 0/322808 [00:00<?, ?it/s]"
      ]
     },
     "metadata": {},
     "output_type": "display_data"
    },
    {
     "data": {
      "text/html": [
       "<div>\n",
       "<style scoped>\n",
       "    .dataframe tbody tr th:only-of-type {\n",
       "        vertical-align: middle;\n",
       "    }\n",
       "\n",
       "    .dataframe tbody tr th {\n",
       "        vertical-align: top;\n",
       "    }\n",
       "\n",
       "    .dataframe thead th {\n",
       "        text-align: right;\n",
       "    }\n",
       "</style>\n",
       "<table border=\"1\" class=\"dataframe\">\n",
       "  <thead>\n",
       "    <tr style=\"text-align: right;\">\n",
       "      <th></th>\n",
       "      <th>chr</th>\n",
       "      <th>dyad_pos</th>\n",
       "      <th>start_pos</th>\n",
       "      <th>internal_dyad_positions</th>\n",
       "      <th>stop_pos</th>\n",
       "    </tr>\n",
       "  </thead>\n",
       "  <tbody>\n",
       "    <tr>\n",
       "      <th>0</th>\n",
       "      <td>chrI</td>\n",
       "      <td>129</td>\n",
       "      <td>28</td>\n",
       "      <td>[100, 104, 106, 110, 117, 123, 136, 175, 185, ...</td>\n",
       "      <td>228</td>\n",
       "    </tr>\n",
       "    <tr>\n",
       "      <th>1</th>\n",
       "      <td>chrI</td>\n",
       "      <td>133</td>\n",
       "      <td>32</td>\n",
       "      <td>[96, 100, 102, 106, 113, 119, 132, 171, 181, 1...</td>\n",
       "      <td>232</td>\n",
       "    </tr>\n",
       "    <tr>\n",
       "      <th>2</th>\n",
       "      <td>chrI</td>\n",
       "      <td>135</td>\n",
       "      <td>34</td>\n",
       "      <td>[94, 98, 100, 104, 111, 117, 130, 169, 179, 18...</td>\n",
       "      <td>234</td>\n",
       "    </tr>\n",
       "    <tr>\n",
       "      <th>3</th>\n",
       "      <td>chrI</td>\n",
       "      <td>139</td>\n",
       "      <td>38</td>\n",
       "      <td>[90, 94, 96, 100, 107, 113, 126, 165, 175, 181...</td>\n",
       "      <td>238</td>\n",
       "    </tr>\n",
       "    <tr>\n",
       "      <th>4</th>\n",
       "      <td>chrI</td>\n",
       "      <td>146</td>\n",
       "      <td>45</td>\n",
       "      <td>[83, 87, 89, 93, 100, 106, 119, 158, 168, 174,...</td>\n",
       "      <td>245</td>\n",
       "    </tr>\n",
       "    <tr>\n",
       "      <th>...</th>\n",
       "      <td>...</td>\n",
       "      <td>...</td>\n",
       "      <td>...</td>\n",
       "      <td>...</td>\n",
       "      <td>...</td>\n",
       "    </tr>\n",
       "    <tr>\n",
       "      <th>593999</th>\n",
       "      <td>chrXVI</td>\n",
       "      <td>947720</td>\n",
       "      <td>947619</td>\n",
       "      <td>[19, 76, 79, 84, 91, 92, 98, 99, 100, 101, 102...</td>\n",
       "      <td>947819</td>\n",
       "    </tr>\n",
       "    <tr>\n",
       "      <th>594000</th>\n",
       "      <td>chrXVI</td>\n",
       "      <td>947721</td>\n",
       "      <td>947620</td>\n",
       "      <td>[18, 75, 78, 83, 90, 91, 97, 98, 99, 100, 101,...</td>\n",
       "      <td>947820</td>\n",
       "    </tr>\n",
       "    <tr>\n",
       "      <th>594001</th>\n",
       "      <td>chrXVI</td>\n",
       "      <td>947722</td>\n",
       "      <td>947620</td>\n",
       "      <td>[18, 75, 78, 83, 90, 91, 97, 98, 99, 100, 101,...</td>\n",
       "      <td>947820</td>\n",
       "    </tr>\n",
       "    <tr>\n",
       "      <th>594002</th>\n",
       "      <td>chrXVI</td>\n",
       "      <td>947724</td>\n",
       "      <td>947622</td>\n",
       "      <td>[16, 73, 76, 81, 88, 89, 95, 96, 97, 98, 99, 1...</td>\n",
       "      <td>947822</td>\n",
       "    </tr>\n",
       "    <tr>\n",
       "      <th>594003</th>\n",
       "      <td>chrXVI</td>\n",
       "      <td>947817</td>\n",
       "      <td>947716</td>\n",
       "      <td>[1, 2, 3, 4, 5, 7, 100]</td>\n",
       "      <td>947916</td>\n",
       "    </tr>\n",
       "  </tbody>\n",
       "</table>\n",
       "<p>594004 rows × 5 columns</p>\n",
       "</div>"
      ],
      "text/plain": [
       "           chr  dyad_pos  start_pos  \\\n",
       "0         chrI       129         28   \n",
       "1         chrI       133         32   \n",
       "2         chrI       135         34   \n",
       "3         chrI       139         38   \n",
       "4         chrI       146         45   \n",
       "...        ...       ...        ...   \n",
       "593999  chrXVI    947720     947619   \n",
       "594000  chrXVI    947721     947620   \n",
       "594001  chrXVI    947722     947620   \n",
       "594002  chrXVI    947724     947622   \n",
       "594003  chrXVI    947817     947716   \n",
       "\n",
       "                                  internal_dyad_positions  stop_pos  \n",
       "0       [100, 104, 106, 110, 117, 123, 136, 175, 185, ...       228  \n",
       "1       [96, 100, 102, 106, 113, 119, 132, 171, 181, 1...       232  \n",
       "2       [94, 98, 100, 104, 111, 117, 130, 169, 179, 18...       234  \n",
       "3       [90, 94, 96, 100, 107, 113, 126, 165, 175, 181...       238  \n",
       "4       [83, 87, 89, 93, 100, 106, 119, 158, 168, 174,...       245  \n",
       "...                                                   ...       ...  \n",
       "593999  [19, 76, 79, 84, 91, 92, 98, 99, 100, 101, 102...    947819  \n",
       "594000  [18, 75, 78, 83, 90, 91, 97, 98, 99, 100, 101,...    947820  \n",
       "594001  [18, 75, 78, 83, 90, 91, 97, 98, 99, 100, 101,...    947820  \n",
       "594002  [16, 73, 76, 81, 88, 89, 95, 96, 97, 98, 99, 1...    947822  \n",
       "594003                            [1, 2, 3, 4, 5, 7, 100]    947916  \n",
       "\n",
       "[594004 rows x 5 columns]"
      ]
     },
     "execution_count": 567,
     "metadata": {},
     "output_type": "execute_result"
    }
   ],
   "source": [
    "def calc_collateral_dyad_positions(template_positions):\n",
    "    template_positions['dyad_pos'] = template_positions['dyad_pos'].astype('int32')\n",
    "    template_positions['chr'] = template_positions['chr'].astype('category')\n",
    "\n",
    "    def get_internal_positions(row):\n",
    "        query = f'dyad_pos >= {row.start_pos} and dyad_pos <= {row.stop_pos} and chr == \"{row.chr}\"'\n",
    "        internal_dyad_positions = template_positions.query(query)['dyad_pos'] - row.start_pos - 1\n",
    "        internal_dyad_positions = internal_dyad_positions.tolist()\n",
    "        \n",
    "        return internal_dyad_positions\n",
    "    \n",
    "    tqdm.pandas(colour=INDIGO)\n",
    "    internal_dyad_positions = template_positions.progress_apply(get_internal_positions, axis=1)\n",
    "    \n",
    "    multilabel_template_positions = template_positions \\\n",
    "        .copy() \\\n",
    "        .rename(columns={'internal_dyad_pos': 'internal_dyad_positions'})\n",
    "    multilabel_template_positions['internal_dyad_positions'] = internal_dyad_positions\n",
    "\n",
    "    return multilabel_template_positions\n",
    "\n",
    "\n",
    "multilabel_template_positions_1 = calc_collateral_dyad_positions(filtered_template_positions_1)\n",
    "multilabel_template_positions_2 = calc_collateral_dyad_positions(filtered_template_positions_2)\n",
    "multilabel_template_positions_3 = calc_collateral_dyad_positions(filtered_template_positions_3)\n",
    "\n",
    "multilabel_template_positions_1"
   ]
  },
  {
   "cell_type": "markdown",
   "id": "33116158-47ee-4c5f-a7a4-bc721d9dc71f",
   "metadata": {
    "jp-MarkdownHeadingCollapsed": true,
    "tags": []
   },
   "source": [
    "#### Cache the dyad positions"
   ]
  },
  {
   "cell_type": "code",
   "execution_count": 568,
   "id": "f974adb8-0c90-40b4-b0d2-7ec14d6dc721",
   "metadata": {
    "tags": []
   },
   "outputs": [],
   "source": [
    "def cache_dyad_positions(dataset_number):\n",
    "    if not os.path.exists(f'../dataset_{dataset_number}/cache'):\n",
    "        os.makedirs(f'../dataset_{dataset_number}/cache')\n",
    "        \n",
    "    with open(f'../dataset_{dataset_number}/cache/internal_dyad_positions.pickle', 'wb') as file:\n",
    "        pickle.dump(eval(f'multilabel_template_positions_{dataset_number}.internal_dyad_positions'), file)\n",
    "\n",
    "\n",
    "cache_dyad_positions(1)\n",
    "cache_dyad_positions(2)\n",
    "cache_dyad_positions(3)"
   ]
  },
  {
   "cell_type": "markdown",
   "id": "642b31b8-527b-491d-baf1-33514210f804",
   "metadata": {
    "tags": []
   },
   "source": [
    "### Get template sequences based on the template positions"
   ]
  },
  {
   "cell_type": "markdown",
   "id": "3ffae581-365f-4643-bf3b-430bcc9a11d7",
   "metadata": {
    "jp-MarkdownHeadingCollapsed": true,
    "tags": []
   },
   "source": [
    "#### Substitute 'chr' column values with NCBI identifiers"
   ]
  },
  {
   "cell_type": "code",
   "execution_count": 582,
   "id": "febf4534-61ee-4f23-932a-f65306cffebe",
   "metadata": {
    "tags": []
   },
   "outputs": [
    {
     "data": {
      "text/html": [
       "<div>\n",
       "<style scoped>\n",
       "    .dataframe tbody tr th:only-of-type {\n",
       "        vertical-align: middle;\n",
       "    }\n",
       "\n",
       "    .dataframe tbody tr th {\n",
       "        vertical-align: top;\n",
       "    }\n",
       "\n",
       "    .dataframe thead th {\n",
       "        text-align: right;\n",
       "    }\n",
       "</style>\n",
       "<table border=\"1\" class=\"dataframe\">\n",
       "  <thead>\n",
       "    <tr style=\"text-align: right;\">\n",
       "      <th></th>\n",
       "      <th>chr</th>\n",
       "      <th>dyad_pos</th>\n",
       "      <th>start_pos</th>\n",
       "      <th>internal_dyad_pos</th>\n",
       "      <th>stop_pos</th>\n",
       "    </tr>\n",
       "  </thead>\n",
       "  <tbody>\n",
       "    <tr>\n",
       "      <th>0</th>\n",
       "      <td>NC_001133.9</td>\n",
       "      <td>129</td>\n",
       "      <td>28</td>\n",
       "      <td>100</td>\n",
       "      <td>228</td>\n",
       "    </tr>\n",
       "    <tr>\n",
       "      <th>1</th>\n",
       "      <td>NC_001133.9</td>\n",
       "      <td>133</td>\n",
       "      <td>32</td>\n",
       "      <td>100</td>\n",
       "      <td>232</td>\n",
       "    </tr>\n",
       "    <tr>\n",
       "      <th>2</th>\n",
       "      <td>NC_001133.9</td>\n",
       "      <td>135</td>\n",
       "      <td>34</td>\n",
       "      <td>100</td>\n",
       "      <td>234</td>\n",
       "    </tr>\n",
       "    <tr>\n",
       "      <th>3</th>\n",
       "      <td>NC_001133.9</td>\n",
       "      <td>139</td>\n",
       "      <td>38</td>\n",
       "      <td>100</td>\n",
       "      <td>238</td>\n",
       "    </tr>\n",
       "    <tr>\n",
       "      <th>4</th>\n",
       "      <td>NC_001133.9</td>\n",
       "      <td>146</td>\n",
       "      <td>45</td>\n",
       "      <td>100</td>\n",
       "      <td>245</td>\n",
       "    </tr>\n",
       "    <tr>\n",
       "      <th>...</th>\n",
       "      <td>...</td>\n",
       "      <td>...</td>\n",
       "      <td>...</td>\n",
       "      <td>...</td>\n",
       "      <td>...</td>\n",
       "    </tr>\n",
       "    <tr>\n",
       "      <th>593999</th>\n",
       "      <td>NC_001148.4</td>\n",
       "      <td>947720</td>\n",
       "      <td>947619</td>\n",
       "      <td>100</td>\n",
       "      <td>947819</td>\n",
       "    </tr>\n",
       "    <tr>\n",
       "      <th>594000</th>\n",
       "      <td>NC_001148.4</td>\n",
       "      <td>947721</td>\n",
       "      <td>947620</td>\n",
       "      <td>100</td>\n",
       "      <td>947820</td>\n",
       "    </tr>\n",
       "    <tr>\n",
       "      <th>594001</th>\n",
       "      <td>NC_001148.4</td>\n",
       "      <td>947722</td>\n",
       "      <td>947620</td>\n",
       "      <td>101</td>\n",
       "      <td>947820</td>\n",
       "    </tr>\n",
       "    <tr>\n",
       "      <th>594002</th>\n",
       "      <td>NC_001148.4</td>\n",
       "      <td>947724</td>\n",
       "      <td>947622</td>\n",
       "      <td>101</td>\n",
       "      <td>947822</td>\n",
       "    </tr>\n",
       "    <tr>\n",
       "      <th>594003</th>\n",
       "      <td>NC_001148.4</td>\n",
       "      <td>947817</td>\n",
       "      <td>947716</td>\n",
       "      <td>100</td>\n",
       "      <td>947916</td>\n",
       "    </tr>\n",
       "  </tbody>\n",
       "</table>\n",
       "<p>594004 rows × 5 columns</p>\n",
       "</div>"
      ],
      "text/plain": [
       "                chr  dyad_pos  start_pos  internal_dyad_pos  stop_pos\n",
       "0       NC_001133.9       129         28                100       228\n",
       "1       NC_001133.9       133         32                100       232\n",
       "2       NC_001133.9       135         34                100       234\n",
       "3       NC_001133.9       139         38                100       238\n",
       "4       NC_001133.9       146         45                100       245\n",
       "...             ...       ...        ...                ...       ...\n",
       "593999  NC_001148.4    947720     947619                100    947819\n",
       "594000  NC_001148.4    947721     947620                100    947820\n",
       "594001  NC_001148.4    947722     947620                101    947820\n",
       "594002  NC_001148.4    947724     947622                101    947822\n",
       "594003  NC_001148.4    947817     947716                100    947916\n",
       "\n",
       "[594004 rows x 5 columns]"
      ]
     },
     "execution_count": 582,
     "metadata": {},
     "output_type": "execute_result"
    }
   ],
   "source": [
    "# Make a dictionary manually using NCBI data\n",
    "chr_to_id = {\n",
    "    'chrI': 'NC_001133.9',\n",
    "    'chrII': 'NC_001134.8',\n",
    "    'chrIII': 'NC_001135.5',\n",
    "    'chrIV': 'NC_001136.10',\n",
    "    'chrV': 'NC_001137.3',\n",
    "    'chrVI': 'NC_001138.5',\n",
    "    'chrVII': 'NC_001139.9',\n",
    "    'chrVIII': 'NC_001140.6',\n",
    "    'chrIX': 'NC_001141.2',\n",
    "    'chrX': 'NC_001142.9',\n",
    "    'chrXI': 'NC_001143.9',\n",
    "    'chrXII': 'NC_001144.5',\n",
    "    'chrXIII': 'NC_001145.3',\n",
    "    'chrXIV': 'NC_001146.8',\n",
    "    'chrXV': 'NC_001147.6',\n",
    "    'chrXVI': 'NC_001148.4'\n",
    "}\n",
    "\n",
    "\n",
    "def convert_chr_to_id(template_positions):\n",
    "    template_positions['chr'] = template_positions['chr'].cat.rename_categories(chr_to_id)\n",
    "    \n",
    "    return template_positions\n",
    "\n",
    "\n",
    "renamed_template_positions_1 = convert_chr_to_id(filtered_template_positions_1)\n",
    "renamed_template_positions_2 = convert_chr_to_id(filtered_template_positions_2)\n",
    "renamed_template_positions_3 = convert_chr_to_id(filtered_template_positions_3)\n",
    "\n",
    "renamed_template_positions_1"
   ]
  },
  {
   "cell_type": "markdown",
   "id": "c9903258-03bc-4383-921f-582aaa15df89",
   "metadata": {
    "jp-MarkdownHeadingCollapsed": true,
    "tags": []
   },
   "source": [
    "#### Load template positions into a bedGraph file"
   ]
  },
  {
   "cell_type": "code",
   "execution_count": 570,
   "id": "b5502d3d-de31-4081-b3fe-cbf1e23fe1d3",
   "metadata": {
    "tags": []
   },
   "outputs": [
    {
     "name": "stdout",
     "output_type": "stream",
     "text": [
      "NC_001133.9\t28\t228\n",
      "NC_001133.9\t32\t232\n",
      "NC_001133.9\t34\t234\n",
      "NC_001133.9\t38\t238\n",
      "NC_001133.9\t45\t245\n"
     ]
    }
   ],
   "source": [
    "def templates_to_bedgraph(renamed_template_positions, dataset_number):\n",
    "    renamed_template_positions[['chr', 'start_pos', 'stop_pos']].to_csv(\n",
    "        f'../dataset_{dataset_number}/templates.bed',\n",
    "        sep='\\t',\n",
    "        index=False,\n",
    "        header=False\n",
    "    )\n",
    "\n",
    "\n",
    "templates_to_bedgraph(renamed_template_positions_1, 1)\n",
    "templates_to_bedgraph(renamed_template_positions_2, 2)\n",
    "templates_to_bedgraph(renamed_template_positions_3, 3)\n",
    "\n",
    "! head -n 5 ../dataset_1/templates.bed"
   ]
  },
  {
   "cell_type": "markdown",
   "id": "03daf781-4ed5-46a3-b9ef-d279a87ab292",
   "metadata": {
    "jp-MarkdownHeadingCollapsed": true,
    "tags": []
   },
   "source": [
    "#### Extract sequences from a FASTA file based on positions in bedGraph file"
   ]
  },
  {
   "cell_type": "code",
   "execution_count": 571,
   "id": "45bcbb5a-28c4-4def-89c4-62e97686fff3",
   "metadata": {
    "tags": []
   },
   "outputs": [
    {
     "name": "stdout",
     "output_type": "stream",
     "text": [
      ">NC_001133.9:28-228\n",
      "acaccacacaccacaccacacccacacacacacatCCTAACACTACCCTAACACAGCCCTAATCTAACCCTGGCCAACCTGTCTCTCAACTTACCCTCCATTACCCTGCCTCCACTCGTTACCCTGTCCCATTCAACCATACCACTCCGAACCACCATCCATCCCTCTACTTACTACCACTCACCCACCGTTACCCTCCA\n",
      ">NC_001133.9:32-232\n",
      "cacacaccacaccacacccacacacacacatCCTAACACTACCCTAACACAGCCCTAATCTAACCCTGGCCAACCTGTCTCTCAACTTACCCTCCATTACCCTGCCTCCACTCGTTACCCTGTCCCATTCAACCATACCACTCCGAACCACCATCCATCCCTCTACTTACTACCACTCACCCACCGTTACCCTCCAATTA\n",
      ">NC_001133.9:34-234\n"
     ]
    }
   ],
   "source": [
    "%%bash\n",
    "\n",
    "for i in 1 2 3\n",
    "do\n",
    "    bedtools getfasta \\\n",
    "        -fi ../reference_genome.fasta \\\n",
    "        -bed ../dataset_${i}/templates.bed \\\n",
    "        -fo ../dataset_${i}/templates.fasta\n",
    "done\n",
    "\n",
    "rm ../reference_genome.fasta.fai\n",
    "\n",
    "head -n 5 ../dataset_1/templates.fasta"
   ]
  },
  {
   "cell_type": "markdown",
   "id": "6e3f6eed-bb34-4ba6-8cb0-434d280c130f",
   "metadata": {
    "jp-MarkdownHeadingCollapsed": true,
    "tags": []
   },
   "source": [
    "#### Parse the FASTA file"
   ]
  },
  {
   "cell_type": "code",
   "execution_count": 572,
   "id": "905a9193-47fa-4638-96d7-892515300a7c",
   "metadata": {
    "tags": []
   },
   "outputs": [
    {
     "name": "stdout",
     "output_type": "stream",
     "text": [
      "['A', 'C', 'A', 'C', 'C', 'A', 'C', 'A', 'C', 'A', 'C', 'C', 'A', 'C', 'A', 'C', 'C', 'A', 'C', 'A', 'C', 'C', 'C', 'A', 'C', 'A', 'C', 'A', 'C', 'A', 'C', 'A', 'C', 'A', 'T', 'C', 'C', 'T', 'A', 'A', 'C', 'A', 'C', 'T', 'A', 'C', 'C', 'C', 'T', 'A', 'A', 'C', 'A', 'C', 'A', 'G', 'C', 'C', 'C', 'T', 'A', 'A', 'T', 'C', 'T', 'A', 'A', 'C', 'C', 'C', 'T', 'G', 'G', 'C', 'C', 'A', 'A', 'C', 'C', 'T', 'G', 'T', 'C', 'T', 'C', 'T', 'C', 'A', 'A', 'C', 'T', 'T', 'A', 'C', 'C', 'C', 'T', 'C', 'C', 'A', 'T', 'T', 'A', 'C', 'C', 'C', 'T', 'G', 'C', 'C', 'T', 'C', 'C', 'A', 'C', 'T', 'C', 'G', 'T', 'T', 'A', 'C', 'C', 'C', 'T', 'G', 'T', 'C', 'C', 'C', 'A', 'T', 'T', 'C', 'A', 'A', 'C', 'C', 'A', 'T', 'A', 'C', 'C', 'A', 'C', 'T', 'C', 'C', 'G', 'A', 'A', 'C', 'C', 'A', 'C', 'C', 'A', 'T', 'C', 'C', 'A', 'T', 'C', 'C', 'C', 'T', 'C', 'T', 'A', 'C', 'T', 'T', 'A', 'C', 'T', 'A', 'C', 'C', 'A', 'C', 'T', 'C', 'A', 'C', 'C', 'C', 'A', 'C', 'C', 'G', 'T', 'T', 'A', 'C', 'C', 'C', 'T', 'C', 'C', 'A']\n"
     ]
    }
   ],
   "source": [
    "def parse_fasta_templates(dataset_number):\n",
    "    fasta_templates = SeqIO.parse(f'../dataset_{dataset_number}/templates.fasta', 'fasta')\n",
    "\n",
    "    templates = list(\n",
    "        map(\n",
    "            lambda record: list(str(record.seq).upper()),\n",
    "            fasta_templates\n",
    "        )\n",
    "    )\n",
    "    \n",
    "    return templates\n",
    "\n",
    "\n",
    "templates_1 = parse_fasta_templates(1)\n",
    "templates_2 = parse_fasta_templates(2)\n",
    "templates_3 = parse_fasta_templates(3)\n",
    "\n",
    "print(templates_1[0])"
   ]
  },
  {
   "cell_type": "markdown",
   "id": "023d083f-b31a-4c9d-901d-2d11bbaab1cd",
   "metadata": {
    "jp-MarkdownHeadingCollapsed": true,
    "tags": []
   },
   "source": [
    "#### Cache the templates"
   ]
  },
  {
   "cell_type": "code",
   "execution_count": 573,
   "id": "c5e98bef-05e3-4c04-85ef-ce926c5c0e97",
   "metadata": {
    "tags": []
   },
   "outputs": [],
   "source": [
    "def cache_templates(dataset_number):\n",
    "    with open(f'../dataset_{dataset_number}/cache/templates.pickle', 'wb') as file:\n",
    "        pickle.dump(eval(f'templates_{dataset_number}'), file)\n",
    "\n",
    "\n",
    "cache_templates(1)\n",
    "cache_templates(2)\n",
    "cache_templates(3)"
   ]
  },
  {
   "cell_type": "markdown",
   "id": "71225be2-0ce0-4ac4-a012-a31fc9d384c5",
   "metadata": {
    "tags": []
   },
   "source": [
    "## Train the model"
   ]
  },
  {
   "cell_type": "markdown",
   "id": "5f323c0b-46ae-4a38-a094-cf4e13539bea",
   "metadata": {
    "tags": []
   },
   "source": [
    "### Set up hyperparameters"
   ]
  },
  {
   "cell_type": "code",
   "execution_count": null,
   "id": "f30fc26c-6d20-4e5e-90e4-4eb7b1e33763",
   "metadata": {
    "tags": []
   },
   "outputs": [],
   "source": [
    "%%writefile config.py\n",
    "# config = {\n",
    "#     # Model hyperparameters\n",
    "#     'HIDDEN_SIZE': [32, 64, 128, 256],\n",
    "#     'NUM_LAYERS': [1, 2, 3],\n",
    "#     'LOSS_FN': 'nn.BCEWithLogitsLoss',\n",
    "#     'OPTIMIZER': 'optim.Adam',\n",
    "#     'LR': [1e-3, 1e-4, 1e-5],\n",
    "#     'WEIGHT_DECAY': [1e-4, 1e-5, 1e-6],\n",
    "\n",
    "#     # Dataset hyperparameters\n",
    "#     'DATASET_NUMBER': [1, 2, 3],\n",
    "#     'DATASET_PREFIX': ['default', 'bigram', 'trigram'],\n",
    "#     'BATCH_SIZE': 1024,\n",
    "#     'NUM_WORKERS': 16,\n",
    "\n",
    "#     # Training hyperparameters\n",
    "#     'NUM_EPOCHS': 100,\n",
    "#     'RUN_NAME': 'test'\n",
    "# }\n",
    "config = {\n",
    "    # Model hyperparameters\n",
    "    'HIDDEN_SIZE': 32,\n",
    "    'NUM_LAYERS': 1,\n",
    "    'LOSS_FN': 'nn.BCEWithLogitsLoss',\n",
    "    'OPTIMIZER': 'optim.Adam',\n",
    "    'LR': 1e-3,\n",
    "    'WEIGHT_DECAY': 1e-6,\n",
    "\n",
    "    # Dataset hyperparameters\n",
    "    'DATASET_NUMBER': 1,\n",
    "    'DATASET_PREFIX': 'trigram',\n",
    "    'BATCH_SIZE': 1024,\n",
    "    'NUM_WORKERS': 16,\n",
    "\n",
    "    # Training hyperparameters\n",
    "    'NUM_EPOCHS': 100,\n",
    "    'RUN_NAME': 'test'\n",
    "}"
   ]
  },
  {
   "cell_type": "markdown",
   "id": "24434ae4-58a6-4b01-8621-0a3155c001f1",
   "metadata": {
    "tags": []
   },
   "source": [
    "### Run the following commands in the terminal while in this directory"
   ]
  },
  {
   "cell_type": "markdown",
   "id": "ac71fa04-498b-4200-a52c-9fb10795530b",
   "metadata": {},
   "source": [
    "```\n",
    "conda activate DL_peak_calling && \\\n",
    "python train.py\n",
    "```"
   ]
  },
  {
   "cell_type": "markdown",
   "id": "52f72b6e-fee0-4871-ae25-96270431beda",
   "metadata": {
    "tags": []
   },
   "source": [
    "### Show a dashboard"
   ]
  },
  {
   "cell_type": "markdown",
   "id": "4772adfa-0174-4ff3-aa4c-52e48e6b9696",
   "metadata": {
    "tags": []
   },
   "source": [
    "#### Define a dashboard function"
   ]
  },
  {
   "cell_type": "code",
   "execution_count": 238,
   "id": "27ed68f8-43fc-4211-b626-96ec5a08b64f",
   "metadata": {
    "tags": []
   },
   "outputs": [],
   "source": [
    "def save_dashboard(run_name):\n",
    "    # Extract history values\n",
    "    history = pd.read_csv(f'results/{run_name}/metrics.csv')\n",
    "    \n",
    "    train_loss = history['train_loss'].dropna().values\n",
    "    val_loss = history['val_loss'].dropna().values\n",
    "    train_f1 = history['train_f1'].dropna().values\n",
    "    val_f1 = history['val_f1'].dropna().values\n",
    "    \n",
    "    # Set up axes\n",
    "    fig = plt.figure(figsize=(20, 10))\n",
    "    axs = fig.subplot_mosaic(\n",
    "        [['top_left', 'top_right'],\n",
    "         ['bottom', 'bottom']]\n",
    "    )\n",
    "    \n",
    "    # Plot the loss\n",
    "    axs['top_left'].plot(\n",
    "        train_loss,\n",
    "        color=INDIGO,\n",
    "        linewidth=3,\n",
    "        label='Train'\n",
    "    )\n",
    "    axs['top_left'].plot(\n",
    "        val_loss,\n",
    "        color=MAGENTA,\n",
    "        linewidth=3,\n",
    "        label='Validation'\n",
    "    )\n",
    "    axs['top_left'].set_xlabel('Epochs')\n",
    "    axs['top_left'].set_ylabel('Loss')\n",
    "    axs['top_left'].legend()\n",
    "    axs['top_left'].spines[['right', 'top']].set_visible(False)\n",
    "    axs['top_left'].grid(False)\n",
    "    \n",
    "    # Plot the F1 score\n",
    "    axs['top_right'].plot(\n",
    "        train_f1,\n",
    "        color=INDIGO,\n",
    "        linewidth=3,\n",
    "        label='Train'\n",
    "    )\n",
    "    axs['top_right'].plot(\n",
    "        val_f1,\n",
    "        color=MAGENTA,\n",
    "        linewidth=3,\n",
    "        label='Validation'\n",
    "    )\n",
    "    axs['top_right'].set_xlabel('Epochs')\n",
    "    axs['top_right'].set_ylabel('F1 score')\n",
    "    axs['top_right'].legend()\n",
    "    axs['top_right'].spines[['right', 'top']].set_visible(False)\n",
    "    axs['top_right'].grid(False) \n",
    "\n",
    "    # Extract hyperparameters\n",
    "    with open(f'results/{run_name}/hparams.yaml') as file:\n",
    "        hyperparameters = yaml.safe_load(file)\n",
    "    \n",
    "    # Prepare hyperparameters\n",
    "    hidden_size = hyperparameters['hidden_size']\n",
    "    num_layers = hyperparameters['num_layers']\n",
    "    loss_fn = hyperparameters['loss_fn']\n",
    "    optimizer = hyperparameters['optimizer']\n",
    "    lr = f'{hyperparameters[\"lr\"]:e}'.replace('0', '').replace('.', '')\n",
    "    weight_decay = f'{hyperparameters[\"weight_decay\"]:e}'.replace('0', '').replace('.', '')\n",
    "    num_epochs = hyperparameters['num_epochs']\n",
    "    dataset_number = hyperparameters['dataset_number']\n",
    "    dataset_prefix = hyperparameters['dataset_prefix']\n",
    "    batch_size = hyperparameters['batch_size']\n",
    "    \n",
    "    exec_time = history['exec_time'].dropna().values[-1]\n",
    "    epoch = int(history['epoch'].dropna().values[-1]) + 1\n",
    "    overall_time = strftime('%H:%M:%S', gmtime(exec_time))\n",
    "    time_per_epoch = strftime('%H:%M:%S', gmtime(exec_time/epoch))\n",
    "\n",
    "    # Display hyperparameters\n",
    "    axs['bottom'].text(\n",
    "        x=0.365,\n",
    "        y=-0.12,\n",
    "        s=f'''\n",
    "        • Hidden size: {hidden_size}\\n\n",
    "        • Number of recurrent layers: {num_layers}\\n\n",
    "        • Loss function: {loss_fn}\\n\n",
    "        • Optimizer: {optimizer}\\n\n",
    "        • Learning rate: {lr}\\n\n",
    "        • Weight decay: {weight_decay}\\n\n",
    "        • Batch size: {batch_size}\\n\n",
    "        • Dataset: {dataset_prefix}_dataset_{dataset_number}\\n\\n\n",
    "                     Time running\\n\n",
    "Epoch {epoch}, {overall_time} ({time_per_epoch} per epoch)\n",
    "        ''',\n",
    "        fontsize='16',\n",
    "        linespacing = 0.7\n",
    "    )\n",
    "    axs['bottom'].set_title('Current Hyperparameters', fontsize=19, y=1)\n",
    "    axs['bottom'].spines[['right', 'left', 'top', 'bottom']].set_visible(False)\n",
    "    axs['bottom'].tick_params(\n",
    "        bottom=False,\n",
    "        left=False,\n",
    "        labelbottom=False,\n",
    "        labelleft=False\n",
    "    )\n",
    "    axs['bottom'].grid(False)\n",
    "\n",
    "    # Save the dashboard\n",
    "    plt.savefig(f'results/{run_name}/dashboard.png', dpi=300, bbox_inches='tight')"
   ]
  },
  {
   "cell_type": "code",
   "execution_count": 244,
   "id": "0b748431-46ff-4996-a4c3-e63867bfd343",
   "metadata": {
    "tags": []
   },
   "outputs": [],
   "source": [
    "def show_dashboard(run_name):\n",
    "    fig, ax = plt.subplots(figsize=(20, 10))\n",
    "    \n",
    "    dashboard = mpimg.imread(f'results/{run_name}/dashboard.png')\n",
    "    plt.imshow(dashboard)\n",
    "    \n",
    "    plt.axis('off')\n",
    "    \n",
    "    plt.show()"
   ]
  },
  {
   "cell_type": "markdown",
   "id": "05af3119-77a8-4e53-80f3-1a1c2b3695a7",
   "metadata": {
    "tags": []
   },
   "source": [
    "#### Show the dashboard at any moment while (or after) training"
   ]
  },
  {
   "cell_type": "code",
   "execution_count": 245,
   "id": "6b27be62-40e8-4758-a023-2d821c5fa005",
   "metadata": {
    "tags": []
   },
   "outputs": [
    {
     "ename": "FileNotFoundError",
     "evalue": "[Errno 2] No such file or directory: 'results/test/dashboard.png'",
     "output_type": "error",
     "traceback": [
      "\u001b[0;31m---------------------------------------------------------------------------\u001b[0m",
      "\u001b[0;31mFileNotFoundError\u001b[0m                         Traceback (most recent call last)",
      "Cell \u001b[0;32mIn[245], line 1\u001b[0m\n\u001b[0;32m----> 1\u001b[0m \u001b[43mshow_dashboard\u001b[49m\u001b[43m(\u001b[49m\u001b[38;5;124;43m'\u001b[39;49m\u001b[38;5;124;43mtest\u001b[39;49m\u001b[38;5;124;43m'\u001b[39;49m\u001b[43m)\u001b[49m\n",
      "Cell \u001b[0;32mIn[244], line 4\u001b[0m, in \u001b[0;36mshow_dashboard\u001b[0;34m(run_name)\u001b[0m\n\u001b[1;32m      1\u001b[0m \u001b[38;5;28;01mdef\u001b[39;00m \u001b[38;5;21mshow_dashboard\u001b[39m(run_name):\n\u001b[1;32m      2\u001b[0m     fig, ax \u001b[38;5;241m=\u001b[39m plt\u001b[38;5;241m.\u001b[39msubplots(figsize\u001b[38;5;241m=\u001b[39m(\u001b[38;5;241m20\u001b[39m, \u001b[38;5;241m10\u001b[39m))\n\u001b[0;32m----> 4\u001b[0m     dashboard \u001b[38;5;241m=\u001b[39m \u001b[43mmpimg\u001b[49m\u001b[38;5;241;43m.\u001b[39;49m\u001b[43mimread\u001b[49m\u001b[43m(\u001b[49m\u001b[38;5;124;43mf\u001b[39;49m\u001b[38;5;124;43m'\u001b[39;49m\u001b[38;5;124;43mresults/\u001b[39;49m\u001b[38;5;132;43;01m{\u001b[39;49;00m\u001b[43mrun_name\u001b[49m\u001b[38;5;132;43;01m}\u001b[39;49;00m\u001b[38;5;124;43m/dashboard.png\u001b[39;49m\u001b[38;5;124;43m'\u001b[39;49m\u001b[43m)\u001b[49m\n\u001b[1;32m      5\u001b[0m     plt\u001b[38;5;241m.\u001b[39mimshow(dashboard)\n\u001b[1;32m      7\u001b[0m     plt\u001b[38;5;241m.\u001b[39maxis(\u001b[38;5;124m'\u001b[39m\u001b[38;5;124moff\u001b[39m\u001b[38;5;124m'\u001b[39m)\n",
      "File \u001b[0;32m~/.conda/envs/DL_peak_calling/lib/python3.9/site-packages/matplotlib/image.py:1544\u001b[0m, in \u001b[0;36mimread\u001b[0;34m(fname, format)\u001b[0m\n\u001b[1;32m   1537\u001b[0m \u001b[38;5;28;01mif\u001b[39;00m \u001b[38;5;28misinstance\u001b[39m(fname, \u001b[38;5;28mstr\u001b[39m) \u001b[38;5;129;01mand\u001b[39;00m \u001b[38;5;28mlen\u001b[39m(parse\u001b[38;5;241m.\u001b[39murlparse(fname)\u001b[38;5;241m.\u001b[39mscheme) \u001b[38;5;241m>\u001b[39m \u001b[38;5;241m1\u001b[39m:\n\u001b[1;32m   1538\u001b[0m     \u001b[38;5;66;03m# Pillow doesn't handle URLs directly.\u001b[39;00m\n\u001b[1;32m   1539\u001b[0m     \u001b[38;5;28;01mraise\u001b[39;00m \u001b[38;5;167;01mValueError\u001b[39;00m(\n\u001b[1;32m   1540\u001b[0m         \u001b[38;5;124m\"\u001b[39m\u001b[38;5;124mPlease open the URL for reading and pass the \u001b[39m\u001b[38;5;124m\"\u001b[39m\n\u001b[1;32m   1541\u001b[0m         \u001b[38;5;124m\"\u001b[39m\u001b[38;5;124mresult to Pillow, e.g. with \u001b[39m\u001b[38;5;124m\"\u001b[39m\n\u001b[1;32m   1542\u001b[0m         \u001b[38;5;124m\"\u001b[39m\u001b[38;5;124m``np.array(PIL.Image.open(urllib.request.urlopen(url)))``.\u001b[39m\u001b[38;5;124m\"\u001b[39m\n\u001b[1;32m   1543\u001b[0m         )\n\u001b[0;32m-> 1544\u001b[0m \u001b[38;5;28;01mwith\u001b[39;00m \u001b[43mimg_open\u001b[49m\u001b[43m(\u001b[49m\u001b[43mfname\u001b[49m\u001b[43m)\u001b[49m \u001b[38;5;28;01mas\u001b[39;00m image:\n\u001b[1;32m   1545\u001b[0m     \u001b[38;5;28;01mreturn\u001b[39;00m (_pil_png_to_float_array(image)\n\u001b[1;32m   1546\u001b[0m             \u001b[38;5;28;01mif\u001b[39;00m \u001b[38;5;28misinstance\u001b[39m(image, PIL\u001b[38;5;241m.\u001b[39mPngImagePlugin\u001b[38;5;241m.\u001b[39mPngImageFile) \u001b[38;5;28;01melse\u001b[39;00m\n\u001b[1;32m   1547\u001b[0m             pil_to_array(image))\n",
      "File \u001b[0;32m~/.conda/envs/DL_peak_calling/lib/python3.9/site-packages/PIL/ImageFile.py:126\u001b[0m, in \u001b[0;36mImageFile.__init__\u001b[0;34m(self, fp, filename)\u001b[0m\n\u001b[1;32m    122\u001b[0m \u001b[38;5;28mself\u001b[39m\u001b[38;5;241m.\u001b[39mdecodermaxblock \u001b[38;5;241m=\u001b[39m MAXBLOCK\n\u001b[1;32m    124\u001b[0m \u001b[38;5;28;01mif\u001b[39;00m is_path(fp):\n\u001b[1;32m    125\u001b[0m     \u001b[38;5;66;03m# filename\u001b[39;00m\n\u001b[0;32m--> 126\u001b[0m     \u001b[38;5;28mself\u001b[39m\u001b[38;5;241m.\u001b[39mfp \u001b[38;5;241m=\u001b[39m \u001b[38;5;28;43mopen\u001b[39;49m\u001b[43m(\u001b[49m\u001b[43mfp\u001b[49m\u001b[43m,\u001b[49m\u001b[43m \u001b[49m\u001b[38;5;124;43m\"\u001b[39;49m\u001b[38;5;124;43mrb\u001b[39;49m\u001b[38;5;124;43m\"\u001b[39;49m\u001b[43m)\u001b[49m\n\u001b[1;32m    127\u001b[0m     \u001b[38;5;28mself\u001b[39m\u001b[38;5;241m.\u001b[39mfilename \u001b[38;5;241m=\u001b[39m fp\n\u001b[1;32m    128\u001b[0m     \u001b[38;5;28mself\u001b[39m\u001b[38;5;241m.\u001b[39m_exclusive_fp \u001b[38;5;241m=\u001b[39m \u001b[38;5;28;01mTrue\u001b[39;00m\n",
      "\u001b[0;31mFileNotFoundError\u001b[0m: [Errno 2] No such file or directory: 'results/test/dashboard.png'"
     ]
    },
    {
     "data": {
      "image/png": "[encoded data removed]",
      "text/plain": [
       "<Figure size 2000x1000 with 1 Axes>"
      ]
     },
     "metadata": {},
     "output_type": "display_data"
    }
   ],
   "source": [
    "show_dashboard('test')"
   ]
  }
 ],
 "metadata": {
  "@deathbeds/ipydrawio": {
   "xml": "<mxfile host=\"newton.bioeng.ru\" modified=\"2024-07-22T12:09:27.951Z\" agent=\"5.0 (Macintosh; Intel Mac OS X 10_15_7) AppleWebKit/605.1.15 (KHTML, like Gecko) Version/17.5 Safari/605.1.15\" version=\"20.5.3\" etag=\"jm-F3Z32oDWTIbvSUNjY\" type=\"embed\"><diagram id=\"eHl4M8S5JF6bEwH2CK5G\" name=\"Page-1\"><mxGraphModel dx=\"1377\" dy=\"789\" grid=\"1\" gridSize=\"10\" guides=\"1\" tooltips=\"1\" connect=\"1\" arrows=\"1\" fold=\"1\" page=\"1\" pageScale=\"1\" pageWidth=\"827\" pageHeight=\"1169\" math=\"0\" shadow=\"0\"><root><mxCell id=\"0\"/><mxCell id=\"1\" parent=\"0\"/><mxCell id=\"2\" value=\"\" style=\"edgeStyle=entityRelationEdgeStyle;startArrow=none;endArrow=none;segment=10;curved=1;rounded=0;\" edge=\"1\" source=\"4\" target=\"5\" parent=\"1\"><mxGeometry relative=\"1\" as=\"geometry\"/></mxCell><mxCell id=\"3\" value=\"\" style=\"edgeStyle=entityRelationEdgeStyle;startArrow=none;endArrow=none;segment=10;curved=1;rounded=0;\" edge=\"1\" source=\"4\" target=\"6\" parent=\"1\"><mxGeometry relative=\"1\" as=\"geometry\"><mxPoint x=\"250\" y=\"410\" as=\"sourcePoint\"/></mxGeometry></mxCell><UserObject label=\"Central Idea\" treeRoot=\"1\" id=\"4\"><mxCell style=\"ellipse;align=center;collapsible=0;container=1;recursiveResize=0;\" vertex=\"1\" parent=\"1\"><mxGeometry x=\"290\" y=\"390\" width=\"100\" height=\"40\" as=\"geometry\"/></mxCell></UserObject><mxCell id=\"5\" value=\"Branch\" style=\"shape=partialRectangle;top=0;left=0;bottom=1;right=0;points=[[0,1],[1,1]];strokeColor=#000000;fillColor=none;align=center;verticalAlign=bottom;routingCenterY=0.5;snapToPoint=1;collapsible=0;container=1;recursiveResize=0;autosize=1;\" vertex=\"1\" parent=\"1\"><mxGeometry x=\"450\" y=\"370\" width=\"80\" height=\"20\" as=\"geometry\"/></mxCell><mxCell id=\"6\" value=\"Sub Topic\" style=\"rounded=1;arcSize=50;align=center;verticalAlign=middle;collapsible=0;container=1;recursiveResize=0;strokeWidth=1;autosize=1;spacing=4;\" vertex=\"1\" parent=\"1\"><mxGeometry x=\"450\" y=\"410\" width=\"72\" height=\"26\" as=\"geometry\"/></mxCell></root></mxGraphModel></diagram></mxfile>"
  },
  "kernelspec": {
   "display_name": ".conda-DL_peak_calling",
   "language": "python",
   "name": "conda-env-.conda-DL_peak_calling-py"
  },
  "language_info": {
   "codemirror_mode": {
    "name": "ipython",
    "version": 3
   },
   "file_extension": ".py",
   "mimetype": "text/x-python",
   "name": "python",
   "nbconvert_exporter": "python",
   "pygments_lexer": "ipython3",
   "version": "3.9.19"
  },
  "toc-autonumbering": false,
  "toc-showcode": false,
  "toc-showmarkdowntxt": false,
  "toc-showtags": false,
  "widgets": {
   "application/vnd.jupyter.widget-state+json": {
    "state": {},
    "version_major": 2,
    "version_minor": 0
   }
  }
 },
 "nbformat": 4,
 "nbformat_minor": 5
}
